{
  "nbformat": 4,
  "nbformat_minor": 0,
  "metadata": {
    "colab": {
      "provenance": [],
      "authorship_tag": "ABX9TyMUcQYV5f4mdNqMDfr2bby2",
      "include_colab_link": true
    },
    "kernelspec": {
      "name": "python3",
      "display_name": "Python 3"
    },
    "language_info": {
      "name": "python"
    }
  },
  "cells": [
    {
      "cell_type": "markdown",
      "metadata": {
        "id": "view-in-github",
        "colab_type": "text"
      },
      "source": [
        "<a href=\"https://colab.research.google.com/github/viniciuswalterazevedo/Aulas-FEPI/blob/main/Untitled0.ipynb\" target=\"_parent\"><img src=\"https://colab.research.google.com/assets/colab-badge.svg\" alt=\"Open In Colab\"/></a>"
      ]
    },
    {
      "cell_type": "code",
      "execution_count": null,
      "metadata": {
        "id": "6h3GNaQ91ZuI"
      },
      "outputs": [],
      "source": [
        "a = 0\n",
        "b = 1\n",
        "\n",
        "for _ in range(30):\n",
        "\n",
        "  print(a, end = \"\\n\")\n",
        "  a, b = b, a+b"
      ]
    },
    {
      "cell_type": "code",
      "source": [
        "numero_10_a19 = 0\n",
        "while True:\n",
        "  numero = int(input())\n",
        "  if numero < 0 or numero > 100:\n",
        "    print(\"Número inválido. Insira um número entre 0 e 100.\")\n",
        "  elif numero == 0:\n",
        "    print(f\"Quantidade de números entre 10 e 19: {numero_10_a19}\")\n",
        "    break\n",
        "  elif 10 <= numero <= 19:\n",
        "    numero_10_a19 += 1\n",
        ""
      ],
      "metadata": {
        "id": "uzgT8WIc1atZ"
      },
      "execution_count": null,
      "outputs": []
    },
    {
      "cell_type": "code",
      "source": [
        "senhaReal = 1202\n",
        "senhaInformada = int(input(\"Entre com a sua senha \"))\n",
        "\n",
        "while(senhaReal != senhaInformada):\n",
        "  senhaInformada = int(input(\"Senha incorreta \"))\n",
        "\n",
        "if (senhaInformada == senhaReal):\n",
        "  print(\"Senha Correta !\")"
      ],
      "metadata": {
        "id": "0WFXN6kF1j2Y"
      },
      "execution_count": null,
      "outputs": []
    },
    {
      "cell_type": "code",
      "source": [
        "lista = []\n",
        "entrada = 0\n",
        "\n",
        "while(entrada != 1):\n",
        "\n",
        "  entrada = int(input())\n",
        "  if(entrada != 1):\n",
        "    lista.append(abs(entrada))\n",
        "\n",
        "print(lista)"
      ],
      "metadata": {
        "id": "z4zas1Gb1lgQ"
      },
      "execution_count": null,
      "outputs": []
    }
  ]
}